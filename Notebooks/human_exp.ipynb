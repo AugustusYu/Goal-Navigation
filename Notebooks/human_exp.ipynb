{
 "cells": [
  {
   "cell_type": "code",
   "execution_count": 1,
   "metadata": {},
   "outputs": [],
   "source": [
    "import pandas as pd\n",
    "import numpy as np\n",
    "import matplotlib.pyplot as plt\n",
    "import json\n",
    "import ast\n",
    "from simulation_utils import *"
   ]
  },
  {
   "cell_type": "markdown",
   "metadata": {},
   "source": [
    "## Experiment 1: human take actions towards goals"
   ]
  },
  {
   "cell_type": "code",
   "execution_count": 2,
   "metadata": {},
   "outputs": [],
   "source": [
    "data = pd.read_csv('../experiment1/experiment1-preprocessed.csv', usecols=['idx', 'move'])\n",
    "with open('../experiment1/map_layout_experiment1.json', 'r') as json_file:\n",
    "    layouts = json.load(json_file)"
   ]
  },
  {
   "cell_type": "code",
   "execution_count": 3,
   "metadata": {},
   "outputs": [
    {
     "name": "stdout",
     "output_type": "stream",
     "text": [
      "total games:  3000\n",
      "successful games:  2980\n"
     ]
    }
   ],
   "source": [
    "y = []\n",
    "env = navigation_env()\n",
    "for i in range(len(data)):\n",
    "    game_idx, move = data.iloc[i]['idx'], json.loads(data.iloc[i]['move'])\n",
    "    env.load_layout(layouts[game_idx])\n",
    "    y.append(env.navigate(move))\n",
    "print('total games: ', len(y))\n",
    "print('successful games: ', np.sum(y))"
   ]
  },
  {
   "cell_type": "markdown",
   "metadata": {},
   "source": [
    "## Experiment 2: human infer goals of given trajectory"
   ]
  },
  {
   "cell_type": "code",
   "execution_count": 4,
   "metadata": {},
   "outputs": [],
   "source": [
    "data = pd.read_csv('../experiment2/experiment2-preprocessed.csv', usecols=['idx', 'answer'])\n",
    "with open('../experiment2/map_layout_experiment2.json', 'r') as json_file:\n",
    "    layouts = json.load(json_file)\n"
   ]
  },
  {
   "cell_type": "code",
   "execution_count": 5,
   "metadata": {},
   "outputs": [
    {
     "data": {
      "text/html": [
       "<div>\n",
       "<style scoped>\n",
       "    .dataframe tbody tr th:only-of-type {\n",
       "        vertical-align: middle;\n",
       "    }\n",
       "\n",
       "    .dataframe tbody tr th {\n",
       "        vertical-align: top;\n",
       "    }\n",
       "\n",
       "    .dataframe thead th {\n",
       "        text-align: right;\n",
       "    }\n",
       "</style>\n",
       "<table border=\"1\" class=\"dataframe\">\n",
       "  <thead>\n",
       "    <tr style=\"text-align: right;\">\n",
       "      <th></th>\n",
       "      <th>idx</th>\n",
       "      <th>answer</th>\n",
       "    </tr>\n",
       "  </thead>\n",
       "  <tbody>\n",
       "    <tr>\n",
       "      <th>0</th>\n",
       "      <td>20</td>\n",
       "      <td>1</td>\n",
       "    </tr>\n",
       "    <tr>\n",
       "      <th>1</th>\n",
       "      <td>22</td>\n",
       "      <td>0</td>\n",
       "    </tr>\n",
       "    <tr>\n",
       "      <th>2</th>\n",
       "      <td>4</td>\n",
       "      <td>1</td>\n",
       "    </tr>\n",
       "    <tr>\n",
       "      <th>3</th>\n",
       "      <td>6</td>\n",
       "      <td>1</td>\n",
       "    </tr>\n",
       "    <tr>\n",
       "      <th>4</th>\n",
       "      <td>1</td>\n",
       "      <td>0</td>\n",
       "    </tr>\n",
       "  </tbody>\n",
       "</table>\n",
       "</div>"
      ],
      "text/plain": [
       "   idx  answer\n",
       "0   20       1\n",
       "1   22       0\n",
       "2    4       1\n",
       "3    6       1\n",
       "4    1       0"
      ]
     },
     "execution_count": 5,
     "metadata": {},
     "output_type": "execute_result"
    }
   ],
   "source": [
    "data.head()\n",
    "## idx: game idx of layouts\n",
    "## answer: human answer of goals inference"
   ]
  },
  {
   "cell_type": "code",
   "execution_count": 7,
   "metadata": {},
   "outputs": [
    {
     "name": "stdout",
     "output_type": "stream",
     "text": [
      "{'block': [[1, 0, 0, 0, 0, 0], [0, 0, 0, 0, 0, 0], [0, 0, 0, 0, 0, 0], [0, 0, 0, 0, 0, 0], [0, 0, 1, 0, 0, 0], [0, 0, 0, 0, 0, 1]], 'start_pos': [5, 0], 'goal_pos': [[0, 3], [2, 5]], 'trajectory': [[4, 0], [3, 0], [2, 0], [2, 1], [2, 2], [2, 3]]}\n"
     ]
    }
   ],
   "source": [
    "seq = layouts[0]\n",
    "layout_dict = {\n",
    "    'block': seq[0], ## the block map\n",
    "    'start_pos': seq[1], ## start position\n",
    "    'goal_pos': seq[2], ## two goal positions\n",
    "    'trajectory': seq[3], ## the trajectory given to human participants\n",
    "}\n",
    "print(layout_dict)"
   ]
  },
  {
   "cell_type": "markdown",
   "metadata": {},
   "source": [
    "## Experiment 3: humna infer goals of given trajectory, 2 treatments"
   ]
  },
  {
   "cell_type": "code",
   "execution_count": 8,
   "metadata": {},
   "outputs": [],
   "source": [
    "data = pd.read_csv('../experiment3/experiment3-preprocessed.csv', usecols=['idx', 'answer'])\n",
    "\n",
    "layouts = []\n",
    "with open('../experiment3/map_layout_experiment3-treatment0.json', 'r') as json_file:\n",
    "    layouts.append(json.load(json_file))\n",
    "with open('../experiment3/map_layout_experiment3-treatment1.json', 'r') as json_file:\n",
    "    layouts.append(json.load(json_file))"
   ]
  },
  {
   "cell_type": "code",
   "execution_count": 9,
   "metadata": {},
   "outputs": [
    {
     "data": {
      "text/html": [
       "<div>\n",
       "<style scoped>\n",
       "    .dataframe tbody tr th:only-of-type {\n",
       "        vertical-align: middle;\n",
       "    }\n",
       "\n",
       "    .dataframe tbody tr th {\n",
       "        vertical-align: top;\n",
       "    }\n",
       "\n",
       "    .dataframe thead th {\n",
       "        text-align: right;\n",
       "    }\n",
       "</style>\n",
       "<table border=\"1\" class=\"dataframe\">\n",
       "  <thead>\n",
       "    <tr style=\"text-align: right;\">\n",
       "      <th></th>\n",
       "      <th>idx</th>\n",
       "      <th>answer</th>\n",
       "    </tr>\n",
       "  </thead>\n",
       "  <tbody>\n",
       "    <tr>\n",
       "      <th>0</th>\n",
       "      <td>11</td>\n",
       "      <td>0</td>\n",
       "    </tr>\n",
       "    <tr>\n",
       "      <th>1</th>\n",
       "      <td>1</td>\n",
       "      <td>0</td>\n",
       "    </tr>\n",
       "    <tr>\n",
       "      <th>2</th>\n",
       "      <td>21</td>\n",
       "      <td>0</td>\n",
       "    </tr>\n",
       "    <tr>\n",
       "      <th>3</th>\n",
       "      <td>24</td>\n",
       "      <td>1</td>\n",
       "    </tr>\n",
       "    <tr>\n",
       "      <th>4</th>\n",
       "      <td>10</td>\n",
       "      <td>0</td>\n",
       "    </tr>\n",
       "  </tbody>\n",
       "</table>\n",
       "</div>"
      ],
      "text/plain": [
       "   idx  answer\n",
       "0   11       0\n",
       "1    1       0\n",
       "2   21       0\n",
       "3   24       1\n",
       "4   10       0"
      ]
     },
     "execution_count": 9,
     "metadata": {},
     "output_type": "execute_result"
    }
   ],
   "source": [
    "data.head()\n",
    "## idx: game idx of layouts\n",
    "## answer: human answer of goals inference\n",
    "## treatment: 0-treatment0, 1-treatment1"
   ]
  },
  {
   "cell_type": "code",
   "execution_count": 11,
   "metadata": {},
   "outputs": [
    {
     "name": "stdout",
     "output_type": "stream",
     "text": [
      "{'block': [[0, 0, 0, 0, 0, 0], [0, 0, 0, 0, 0, 0], [0, 0, 0, 1, 0, 0], [0, 1, 0, 0, 0, 0], [0, 0, 0, 1, 0, 0], [0, 0, 1, 0, 0, 0]], 'start_pos': [0, 0], 'goal_pos': [[2, 4], [5, 4]], 'trajectory': [[1, 0], [2, 0], [3, 0], [4, 0], [5, 0], [5, 1], [4, 1]], 'designed_goal': 1}\n"
     ]
    }
   ],
   "source": [
    "seq = layouts[0][0]\n",
    "layout_dict = {\n",
    "    'block': seq[0], ## the block map\n",
    "    'start_pos': seq[1], ## start position\n",
    "    'goal_pos': seq[2], ## two goal positions\n",
    "    'trajectory': seq[3], ## the trajectory given to human participants\n",
    "    'designed_goal': seq[4], ## the true goal the trajectory is heading\n",
    "}\n",
    "print(layout_dict)"
   ]
  }
 ],
 "metadata": {
  "kernelspec": {
   "display_name": "localtest",
   "language": "python",
   "name": "python3"
  },
  "language_info": {
   "codemirror_mode": {
    "name": "ipython",
    "version": 3
   },
   "file_extension": ".py",
   "mimetype": "text/x-python",
   "name": "python",
   "nbconvert_exporter": "python",
   "pygments_lexer": "ipython3",
   "version": "3.10.13"
  }
 },
 "nbformat": 4,
 "nbformat_minor": 2
}

{
 "cells": [
  {
   "cell_type": "code",
   "execution_count": 1,
   "metadata": {},
   "outputs": [],
   "source": [
    "import pandas as pd\n",
    "import numpy as np\n",
    "import json\n",
    "import ast\n",
    "from simulation_utils import *"
   ]
  },
  {
   "cell_type": "markdown",
   "metadata": {},
   "source": [
    "## Experiment 1: Experiment 1: Human Navigation Actions Towards Goals"
   ]
  },
  {
   "cell_type": "code",
   "execution_count": 2,
   "metadata": {},
   "outputs": [],
   "source": [
    "# Load navigation data and map layouts\n",
    "experiment1_data = pd.read_csv('../experiment1/experiment1-preprocessed.csv', usecols=['idx', 'move'])\n",
    "with open('../experiment1/map_layout_experiment1.json', 'r') as json_file:\n",
    "    experiment1_layouts = json.load(json_file)"
   ]
  },
  {
   "cell_type": "code",
   "execution_count": 3,
   "metadata": {},
   "outputs": [
    {
     "name": "stdout",
     "output_type": "stream",
     "text": [
      "Total games:  3000\n",
      "Successful games:  2980\n"
     ]
    }
   ],
   "source": [
    "# Initialize environment and process data\n",
    "successful_games = []\n",
    "env = navigation_env()\n",
    "for idx, row in experiment1_data.iterrows():\n",
    "    game_idx, moves = row['idx'], json.loads(row['move'])\n",
    "    env.load_layout(experiment1_layouts[game_idx])\n",
    "    successful_games.append(env.navigate(moves))\n",
    "\n",
    "# Display results\n",
    "print('Total games: ', len(successful_games))\n",
    "print('Successful games: ', np.sum(successful_games))"
   ]
  },
  {
   "cell_type": "markdown",
   "metadata": {},
   "source": [
    "## Experiment 2: Human Goal Inference\n",
    "\n",
    "- trajectory of this dataset doesn't contian designed_goal"
   ]
  },
  {
   "cell_type": "code",
   "execution_count": 4,
   "metadata": {},
   "outputs": [],
   "source": [
    "# Load inference data and map layouts\n",
    "experiment2_data = pd.read_csv('../experiment2/experiment2-preprocessed.csv', usecols=['idx', 'answer'])\n",
    "with open('../experiment2/map_layout_experiment2.json', 'r') as json_file:\n",
    "    experiment2_layouts = json.load(json_file)"
   ]
  },
  {
   "cell_type": "code",
   "execution_count": 5,
   "metadata": {},
   "outputs": [
    {
     "data": {
      "text/html": [
       "<div>\n",
       "<style scoped>\n",
       "    .dataframe tbody tr th:only-of-type {\n",
       "        vertical-align: middle;\n",
       "    }\n",
       "\n",
       "    .dataframe tbody tr th {\n",
       "        vertical-align: top;\n",
       "    }\n",
       "\n",
       "    .dataframe thead th {\n",
       "        text-align: right;\n",
       "    }\n",
       "</style>\n",
       "<table border=\"1\" class=\"dataframe\">\n",
       "  <thead>\n",
       "    <tr style=\"text-align: right;\">\n",
       "      <th></th>\n",
       "      <th>idx</th>\n",
       "      <th>answer</th>\n",
       "    </tr>\n",
       "  </thead>\n",
       "  <tbody>\n",
       "    <tr>\n",
       "      <th>0</th>\n",
       "      <td>20</td>\n",
       "      <td>1</td>\n",
       "    </tr>\n",
       "    <tr>\n",
       "      <th>1</th>\n",
       "      <td>22</td>\n",
       "      <td>0</td>\n",
       "    </tr>\n",
       "    <tr>\n",
       "      <th>2</th>\n",
       "      <td>4</td>\n",
       "      <td>1</td>\n",
       "    </tr>\n",
       "    <tr>\n",
       "      <th>3</th>\n",
       "      <td>6</td>\n",
       "      <td>1</td>\n",
       "    </tr>\n",
       "    <tr>\n",
       "      <th>4</th>\n",
       "      <td>1</td>\n",
       "      <td>0</td>\n",
       "    </tr>\n",
       "  </tbody>\n",
       "</table>\n",
       "</div>"
      ],
      "text/plain": [
       "   idx  answer\n",
       "0   20       1\n",
       "1   22       0\n",
       "2    4       1\n",
       "3    6       1\n",
       "4    1       0"
      ]
     },
     "execution_count": 5,
     "metadata": {},
     "output_type": "execute_result"
    }
   ],
   "source": [
    "# Display the first few rows of the data\n",
    "experiment2_data.head()\n",
    "# Columns:\n",
    "# - idx: The game index of layouts\n",
    "# - answer: Human inference of goals"
   ]
  },
  {
   "cell_type": "code",
   "execution_count": 6,
   "metadata": {},
   "outputs": [
    {
     "name": "stdout",
     "output_type": "stream",
     "text": [
      "{'block': [[1, 0, 0, 0, 0, 0], [0, 0, 0, 0, 0, 0], [0, 0, 0, 0, 0, 0], [0, 0, 0, 0, 0, 0], [0, 0, 1, 0, 0, 0], [0, 0, 0, 0, 0, 1]], 'start_pos': [5, 0], 'goal_pos': [[0, 3], [2, 5]], 'trajectory': [[4, 0], [3, 0], [2, 0], [2, 1], [2, 2], [2, 3]]}\n"
     ]
    }
   ],
   "source": [
    "# Display a sample layout dictionary\n",
    "sample_layout = experiment2_layouts[0]\n",
    "layout_dict = {\n",
    "    'block': sample_layout[0],        # The block map\n",
    "    'start_pos': sample_layout[1],    # Start position\n",
    "    'goal_pos': sample_layout[2],     # Two goal positions\n",
    "    'trajectory': sample_layout[3],   # Trajectory given to human participants\n",
    "}\n",
    "print(layout_dict)"
   ]
  },
  {
   "cell_type": "markdown",
   "metadata": {},
   "source": [
    "## Experiment 3: Human Goal Inference\n",
    "\n",
    "- trajectory of this dataset contians designed_goal\n",
    "- treatment: 0-shortest distance, 1-behavioral cloning"
   ]
  },
  {
   "cell_type": "code",
   "execution_count": 7,
   "metadata": {},
   "outputs": [],
   "source": [
    "# Load inference data and map layouts\n",
    "experiment3_data  = pd.read_csv('../experiment3/experiment3-preprocessed.csv', usecols=['idx', 'answer','treatment'])\n",
    "experiment3_layouts = []\n",
    "with open('../experiment3/map_layout_experiment3-treatment0.json', 'r') as json_file:\n",
    "    experiment3_layouts.append(json.load(json_file))\n",
    "with open('../experiment3/map_layout_experiment3-treatment1.json', 'r') as json_file:\n",
    "    experiment3_layouts.append(json.load(json_file))"
   ]
  },
  {
   "cell_type": "code",
   "execution_count": 8,
   "metadata": {},
   "outputs": [
    {
     "data": {
      "text/html": [
       "<div>\n",
       "<style scoped>\n",
       "    .dataframe tbody tr th:only-of-type {\n",
       "        vertical-align: middle;\n",
       "    }\n",
       "\n",
       "    .dataframe tbody tr th {\n",
       "        vertical-align: top;\n",
       "    }\n",
       "\n",
       "    .dataframe thead th {\n",
       "        text-align: right;\n",
       "    }\n",
       "</style>\n",
       "<table border=\"1\" class=\"dataframe\">\n",
       "  <thead>\n",
       "    <tr style=\"text-align: right;\">\n",
       "      <th></th>\n",
       "      <th>idx</th>\n",
       "      <th>answer</th>\n",
       "      <th>treatment</th>\n",
       "    </tr>\n",
       "  </thead>\n",
       "  <tbody>\n",
       "    <tr>\n",
       "      <th>0</th>\n",
       "      <td>11</td>\n",
       "      <td>0</td>\n",
       "      <td>0</td>\n",
       "    </tr>\n",
       "    <tr>\n",
       "      <th>1</th>\n",
       "      <td>1</td>\n",
       "      <td>0</td>\n",
       "      <td>0</td>\n",
       "    </tr>\n",
       "    <tr>\n",
       "      <th>2</th>\n",
       "      <td>21</td>\n",
       "      <td>0</td>\n",
       "      <td>0</td>\n",
       "    </tr>\n",
       "    <tr>\n",
       "      <th>3</th>\n",
       "      <td>24</td>\n",
       "      <td>1</td>\n",
       "      <td>0</td>\n",
       "    </tr>\n",
       "    <tr>\n",
       "      <th>4</th>\n",
       "      <td>10</td>\n",
       "      <td>0</td>\n",
       "      <td>0</td>\n",
       "    </tr>\n",
       "  </tbody>\n",
       "</table>\n",
       "</div>"
      ],
      "text/plain": [
       "   idx  answer  treatment\n",
       "0   11       0          0\n",
       "1    1       0          0\n",
       "2   21       0          0\n",
       "3   24       1          0\n",
       "4   10       0          0"
      ]
     },
     "execution_count": 8,
     "metadata": {},
     "output_type": "execute_result"
    }
   ],
   "source": [
    "# Display the first few rows of the data\n",
    "experiment3_data.head()\n",
    "# Columns:\n",
    "# - idx: The game index of layouts\n",
    "# - answer: Human inference of goals\n",
    "# - treatment: 0 for shortest distance, 1 for behavioral cloning"
   ]
  },
  {
   "cell_type": "code",
   "execution_count": 9,
   "metadata": {},
   "outputs": [
    {
     "name": "stdout",
     "output_type": "stream",
     "text": [
      "{'block': [[0, 0, 0, 0, 0, 0], [0, 0, 0, 0, 0, 0], [0, 0, 0, 1, 0, 0], [0, 1, 0, 0, 0, 0], [0, 0, 0, 1, 0, 0], [0, 0, 1, 0, 0, 0]], 'start_pos': [0, 0], 'goal_pos': [[2, 4], [5, 4]], 'trajectory': [[1, 0], [2, 0], [3, 0], [4, 0], [5, 0], [5, 1], [4, 1]], 'designed_goal': 1}\n"
     ]
    }
   ],
   "source": [
    "# Display a sample layout dictionary\n",
    "sample_layout = experiment3_layouts[0][0]\n",
    "layout_dict = {\n",
    "    'block': sample_layout[0],        # The block map\n",
    "    'start_pos': sample_layout[1],    # Start position\n",
    "    'goal_pos': sample_layout[2],     # Two goal positions\n",
    "    'trajectory': sample_layout[3],   # Trajectory given to human participants\n",
    "    'designed_goal': sample_layout[4] # The true goal the trajectory is heading towards\n",
    "}\n",
    "print(layout_dict)"
   ]
  }
 ],
 "metadata": {
  "kernelspec": {
   "display_name": "localtest",
   "language": "python",
   "name": "python3"
  },
  "language_info": {
   "codemirror_mode": {
    "name": "ipython",
    "version": 3
   },
   "file_extension": ".py",
   "mimetype": "text/x-python",
   "name": "python",
   "nbconvert_exporter": "python",
   "pygments_lexer": "ipython3",
   "version": "3.10.13"
  }
 },
 "nbformat": 4,
 "nbformat_minor": 2
}
